{
  "nbformat": 4,
  "nbformat_minor": 0,
  "metadata": {
    "colab": {
      "name": "Untitled6.ipynb",
      "provenance": []
    },
    "kernelspec": {
      "name": "python3",
      "display_name": "Python 3"
    },
    "language_info": {
      "name": "python"
    }
  },
  "cells": [
    {
      "cell_type": "code",
      "execution_count": 2,
      "metadata": {
        "colab": {
          "base_uri": "https://localhost:8080/"
        },
        "id": "82CcQjIPJ_gK",
        "outputId": "c9570372-de70-412e-ff5e-aa7971d0c938"
      },
      "outputs": [
        {
          "output_type": "stream",
          "name": "stdout",
          "text": [
            "2.0\n"
          ]
        }
      ],
      "source": [
        "a=2\n",
        "b=4\n",
        "c=b**(1/a)\n",
        "print(c)\n"
      ]
    },
    {
      "cell_type": "code",
      "source": [
        "name=input(\"Enter your name :\")\n",
        "print(name)"
      ],
      "metadata": {
        "colab": {
          "base_uri": "https://localhost:8080/"
        },
        "id": "sG67M9yOKfy9",
        "outputId": "71bccaf4-5e76-4640-ed0e-cae376da7f31"
      },
      "execution_count": 6,
      "outputs": [
        {
          "output_type": "stream",
          "name": "stdout",
          "text": [
            "Enter your name :sherin\n",
            "sherin\n"
          ]
        }
      ]
    },
    {
      "cell_type": "code",
      "source": [
        "a=input(\"Enter a number :\")\n",
        "b=input(\"Enter a number :\")\n",
        "c=a+b\n",
        "print(c)"
      ],
      "metadata": {
        "colab": {
          "base_uri": "https://localhost:8080/"
        },
        "id": "c25cCa1gLGbN",
        "outputId": "89833292-e9a6-43f0-c983-0d4d6b9c521e"
      },
      "execution_count": 8,
      "outputs": [
        {
          "output_type": "stream",
          "name": "stdout",
          "text": [
            "Enter a number :2\n",
            "Enter a number :3\n",
            "23\n"
          ]
        }
      ]
    },
    {
      "cell_type": "code",
      "source": [
        "\n",
        "a=int(input(\"Enter a number :\"))\n",
        "b=int(input(\"Enter a number :\"))\n",
        "c=a+b\n",
        "print(c)"
      ],
      "metadata": {
        "colab": {
          "base_uri": "https://localhost:8080/"
        },
        "id": "NH3KHWx9LoiA",
        "outputId": "b2ba6a97-938e-42e5-c4fe-c1703dcab1a6"
      },
      "execution_count": 9,
      "outputs": [
        {
          "output_type": "stream",
          "name": "stdout",
          "text": [
            "Enter a number :2\n",
            "Enter a number :3\n",
            "5\n"
          ]
        }
      ]
    },
    {
      "cell_type": "code",
      "source": [
        "age=int(input(\"enter age :\"))\n",
        "if age>18: \n",
        "   print(\"greater than 18\")  \n",
        "   print(\"adult\")\n",
        "   print(\"inside\")\n",
        "print(\"outside\")"
      ],
      "metadata": {
        "colab": {
          "base_uri": "https://localhost:8080/"
        },
        "id": "6wMRErDbMBBV",
        "outputId": "bbbc9d55-41db-4cc2-cbd8-8d92046ad741"
      },
      "execution_count": 14,
      "outputs": [
        {
          "output_type": "stream",
          "name": "stdout",
          "text": [
            "enter age :19\n",
            "greater than 18\n",
            "adult\n",
            "inside\n",
            "outside\n"
          ]
        }
      ]
    },
    {
      "cell_type": "code",
      "source": [
        "age=int(input(\"enter age :\"))\n",
        "if age>18: \n",
        "   print(\"greater than 18\")  \n",
        "   print(\"adult\")\n",
        "   print(\"inside\")\n",
        "elif age>15:\n",
        "   print(\"greater than 15\")\n",
        "else:\n",
        "   print(\"less than 18\")\n",
        "print(\"outside\")"
      ],
      "metadata": {
        "colab": {
          "base_uri": "https://localhost:8080/"
        },
        "id": "crJAGHIrMmbO",
        "outputId": "ef3ba1d2-8d62-4b6f-fa63-f22bb9db521b"
      },
      "execution_count": 19,
      "outputs": [
        {
          "output_type": "stream",
          "name": "stdout",
          "text": [
            "enter age :15\n",
            "less than 18\n",
            "outside\n"
          ]
        }
      ]
    },
    {
      "cell_type": "code",
      "source": [
        "for i in range(10):\n",
        "   print(i)"
      ],
      "metadata": {
        "colab": {
          "base_uri": "https://localhost:8080/"
        },
        "id": "cP-2tr9zOFhO",
        "outputId": "30c7f9d3-9efa-44bc-d722-bb7362f7194c"
      },
      "execution_count": 23,
      "outputs": [
        {
          "output_type": "stream",
          "name": "stdout",
          "text": [
            "0\n",
            "1\n",
            "2\n",
            "3\n",
            "4\n",
            "5\n",
            "6\n",
            "7\n",
            "8\n",
            "9\n"
          ]
        }
      ]
    },
    {
      "cell_type": "code",
      "source": [
        "for i in range(10):\n",
        "   print(i,end=\" \")"
      ],
      "metadata": {
        "colab": {
          "base_uri": "https://localhost:8080/"
        },
        "id": "L8esGUYeOWbs",
        "outputId": "9ff622a5-d6f7-4b21-9fb4-900582101ace"
      },
      "execution_count": 25,
      "outputs": [
        {
          "output_type": "stream",
          "name": "stdout",
          "text": [
            "0 1 2 3 4 5 6 7 8 9 "
          ]
        }
      ]
    },
    {
      "cell_type": "code",
      "source": [
        "for i in range(3,10):\n",
        "   print(i,end=\" \")"
      ],
      "metadata": {
        "colab": {
          "base_uri": "https://localhost:8080/"
        },
        "id": "_WriPSw3Okb6",
        "outputId": "19317797-505e-471e-d5e3-d9816dd2fe2f"
      },
      "execution_count": 27,
      "outputs": [
        {
          "output_type": "stream",
          "name": "stdout",
          "text": [
            "3 4 5 6 7 8 9 "
          ]
        }
      ]
    },
    {
      "cell_type": "code",
      "source": [
        "i=0\n",
        "while(i<10):\n",
        "  print(i,end=\" \")\n",
        "  i=i+1\n",
        "      "
      ],
      "metadata": {
        "colab": {
          "base_uri": "https://localhost:8080/"
        },
        "id": "VRg8PJlzOvwP",
        "outputId": "bccfe45d-8241-415c-a644-40d9eaeca9ba"
      },
      "execution_count": 30,
      "outputs": [
        {
          "output_type": "stream",
          "name": "stdout",
          "text": [
            "0 1 2 3 4 5 6 7 8 9 "
          ]
        }
      ]
    },
    {
      "cell_type": "code",
      "source": [
        "i=[1,2,3]\n",
        "print(i)\n",
        "  "
      ],
      "metadata": {
        "colab": {
          "base_uri": "https://localhost:8080/"
        },
        "id": "ktjO7X4LPtdA",
        "outputId": "f24fb1bf-84dd-47e4-ea45-8d5833bc6075"
      },
      "execution_count": 38,
      "outputs": [
        {
          "output_type": "stream",
          "name": "stdout",
          "text": [
            "[1, 2, 3]\n"
          ]
        }
      ]
    },
    {
      "cell_type": "code",
      "source": [
        "i=[1,2,3]\n",
        "print(i[0])"
      ],
      "metadata": {
        "colab": {
          "base_uri": "https://localhost:8080/"
        },
        "id": "b1bKh3JVQ40q",
        "outputId": "93f1a27d-f490-4a88-ab34-1c7c059c0047"
      },
      "execution_count": 40,
      "outputs": [
        {
          "output_type": "stream",
          "name": "stdout",
          "text": [
            "1\n"
          ]
        }
      ]
    },
    {
      "cell_type": "code",
      "source": [
        "a=[\"a\"]\n",
        "print(a)\n",
        "a.append(10)\n",
        "print(a)"
      ],
      "metadata": {
        "colab": {
          "base_uri": "https://localhost:8080/"
        },
        "id": "qp7eerL4Q8Wv",
        "outputId": "8a9aaf39-be55-4bae-dc58-f75288d9af15"
      },
      "execution_count": 42,
      "outputs": [
        {
          "output_type": "stream",
          "name": "stdout",
          "text": [
            "['a']\n",
            "['a', 10]\n"
          ]
        }
      ]
    },
    {
      "cell_type": "code",
      "source": [
        "a=[\"a\"]\n",
        "print(a)\n",
        "for i in range(3):\n",
        "  a.append(input(\"enter the value\"))\n",
        "  print(a)\n",
        "a.append(int(input(\"integer value :\")))\n",
        "print(a)"
      ],
      "metadata": {
        "colab": {
          "base_uri": "https://localhost:8080/"
        },
        "id": "6uMzabYqSE5_",
        "outputId": "cbf53693-afdb-4595-c5d1-268552f73c4e"
      },
      "execution_count": 51,
      "outputs": [
        {
          "output_type": "stream",
          "name": "stdout",
          "text": [
            "['a']\n",
            "enter the value3\n",
            "['a', '3']\n",
            "enter the value5\n",
            "['a', '3', '5']\n",
            "enter the value8\n",
            "['a', '3', '5', '8']\n",
            "integer value :9\n",
            "['a', '3', '5', '8', 9]\n"
          ]
        }
      ]
    },
    {
      "cell_type": "code",
      "source": [
        "a=set()\n",
        "print(a)\n",
        "for i in range(3):\n",
        "  a.add(input(\"enter the value\"))\n",
        "  print(a)\n",
        "a.add(int(input(\"integer value :\")))\n",
        "print(a)"
      ],
      "metadata": {
        "colab": {
          "base_uri": "https://localhost:8080/"
        },
        "id": "45tHYkrFTRSZ",
        "outputId": "dea9bafd-26b3-4238-aac9-8ab0bd9665d2"
      },
      "execution_count": 57,
      "outputs": [
        {
          "output_type": "stream",
          "name": "stdout",
          "text": [
            "set()\n",
            "enter the value4\n",
            "{'4'}\n",
            "enter the value5\n",
            "{'5', '4'}\n",
            "enter the value1\n",
            "{'5', '4', '1'}\n",
            "integer value :7\n",
            "{'5', 7, '4', '1'}\n"
          ]
        }
      ]
    },
    {
      "cell_type": "code",
      "source": [
        "d={\n",
        "    \"a\":123,\n",
        "    \"apple\":46\n",
        "}\n",
        "print(d[\"a\"])\n",
        "print(d.get(\"orange\",\"not found\"))"
      ],
      "metadata": {
        "colab": {
          "base_uri": "https://localhost:8080/"
        },
        "id": "J4xAAqaRTebp",
        "outputId": "c9c3f511-197f-4999-ba05-ee1ed71b6942"
      },
      "execution_count": 68,
      "outputs": [
        {
          "output_type": "stream",
          "name": "stdout",
          "text": [
            "123\n",
            "not found\n"
          ]
        }
      ]
    },
    {
      "cell_type": "code",
      "source": [
        "  c = 10\n",
        "  b= 20\n",
        "  print(\"c =\",c)\n",
        "  print(\"b =\",b)\n",
        "  c,b=b,c\n",
        "  print(\"c =\",c)\n",
        "  print(\"b =\",b)"
      ],
      "metadata": {
        "colab": {
          "base_uri": "https://localhost:8080/"
        },
        "id": "maL6CEIxWBG9",
        "outputId": "983fe93e-9434-4899-af1e-fd6c202a5bc6"
      },
      "execution_count": 76,
      "outputs": [
        {
          "output_type": "stream",
          "name": "stdout",
          "text": [
            "c = 10\n",
            "b = 20\n",
            "c = 20\n",
            "b = 10\n"
          ]
        }
      ]
    }
  ]
}